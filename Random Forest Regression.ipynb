{
 "cells": [
  {
   "cell_type": "code",
   "execution_count": 1,
   "metadata": {
    "collapsed": true
   },
   "outputs": [],
   "source": [
    "import pandas as pd\n",
    "import numpy as np\n",
    "import matplotlib.pyplot as plt"
   ]
  },
  {
   "cell_type": "code",
   "execution_count": 2,
   "metadata": {},
   "outputs": [
    {
     "data": {
      "text/html": [
       "<div>\n",
       "<style>\n",
       "    .dataframe thead tr:only-child th {\n",
       "        text-align: right;\n",
       "    }\n",
       "\n",
       "    .dataframe thead th {\n",
       "        text-align: left;\n",
       "    }\n",
       "\n",
       "    .dataframe tbody tr th {\n",
       "        vertical-align: top;\n",
       "    }\n",
       "</style>\n",
       "<table border=\"1\" class=\"dataframe\">\n",
       "  <thead>\n",
       "    <tr style=\"text-align: right;\">\n",
       "      <th></th>\n",
       "      <th>Position</th>\n",
       "      <th>Level</th>\n",
       "      <th>Salary</th>\n",
       "    </tr>\n",
       "  </thead>\n",
       "  <tbody>\n",
       "    <tr>\n",
       "      <th>0</th>\n",
       "      <td>Business Analyst</td>\n",
       "      <td>1</td>\n",
       "      <td>45000</td>\n",
       "    </tr>\n",
       "    <tr>\n",
       "      <th>1</th>\n",
       "      <td>Junior Consultant</td>\n",
       "      <td>2</td>\n",
       "      <td>50000</td>\n",
       "    </tr>\n",
       "    <tr>\n",
       "      <th>2</th>\n",
       "      <td>Senior Consultant</td>\n",
       "      <td>3</td>\n",
       "      <td>60000</td>\n",
       "    </tr>\n",
       "    <tr>\n",
       "      <th>3</th>\n",
       "      <td>Manager</td>\n",
       "      <td>4</td>\n",
       "      <td>80000</td>\n",
       "    </tr>\n",
       "    <tr>\n",
       "      <th>4</th>\n",
       "      <td>Country Manager</td>\n",
       "      <td>5</td>\n",
       "      <td>110000</td>\n",
       "    </tr>\n",
       "  </tbody>\n",
       "</table>\n",
       "</div>"
      ],
      "text/plain": [
       "            Position  Level  Salary\n",
       "0   Business Analyst      1   45000\n",
       "1  Junior Consultant      2   50000\n",
       "2  Senior Consultant      3   60000\n",
       "3            Manager      4   80000\n",
       "4    Country Manager      5  110000"
      ]
     },
     "execution_count": 2,
     "metadata": {},
     "output_type": "execute_result"
    }
   ],
   "source": [
    "dataset = pd.read_csv(\"H:\\Random_Forest_Regression\\Random_Forest_Regression\\Position_Salaries.csv\")\n",
    "dataset.head()"
   ]
  },
  {
   "cell_type": "code",
   "execution_count": 5,
   "metadata": {},
   "outputs": [
    {
     "name": "stdout",
     "output_type": "stream",
     "text": [
      "[[ 1]\n",
      " [ 2]\n",
      " [ 3]\n",
      " [ 4]\n",
      " [ 5]\n",
      " [ 6]\n",
      " [ 7]\n",
      " [ 8]\n",
      " [ 9]\n",
      " [10]]\n"
     ]
    }
   ],
   "source": [
    "X = dataset.iloc[:,1:2].values\n",
    "print(X)"
   ]
  },
  {
   "cell_type": "code",
   "execution_count": 6,
   "metadata": {},
   "outputs": [
    {
     "name": "stdout",
     "output_type": "stream",
     "text": [
      "[  45000   50000   60000   80000  110000  150000  200000  300000  500000\n",
      " 1000000]\n"
     ]
    }
   ],
   "source": [
    "Y = dataset.iloc[:,2].values\n",
    "print(Y)"
   ]
  },
  {
   "cell_type": "code",
   "execution_count": 30,
   "metadata": {
    "collapsed": true
   },
   "outputs": [],
   "source": [
    "from sklearn.ensemble import RandomForestRegressor\n",
    "regressor = RandomForestRegressor(n_estimators=100,random_state=0)"
   ]
  },
  {
   "cell_type": "code",
   "execution_count": 31,
   "metadata": {},
   "outputs": [
    {
     "data": {
      "text/plain": [
       "RandomForestRegressor(bootstrap=True, criterion='mse', max_depth=None,\n",
       "           max_features='auto', max_leaf_nodes=None,\n",
       "           min_impurity_split=1e-07, min_samples_leaf=1,\n",
       "           min_samples_split=2, min_weight_fraction_leaf=0.0,\n",
       "           n_estimators=100, n_jobs=1, oob_score=False, random_state=0,\n",
       "           verbose=0, warm_start=False)"
      ]
     },
     "execution_count": 31,
     "metadata": {},
     "output_type": "execute_result"
    }
   ],
   "source": [
    "regressor.fit(X,Y)"
   ]
  },
  {
   "cell_type": "code",
   "execution_count": 32,
   "metadata": {},
   "outputs": [
    {
     "data": {
      "image/png": "[encoded data removed]",
      "text/plain": [
       "<matplotlib.figure.Figure at 0xfff03f668>"
      ]
     },
     "metadata": {},
     "output_type": "display_data"
    }
   ],
   "source": [
    "plt.scatter(X,Y)\n",
    "plt.plot(X, regressor.predict(X))\n",
    "plt.scatter(6.5 , regressor.predict(6.5))\n",
    "plt.show()"
   ]
  },
  {
   "cell_type": "code",
   "execution_count": 33,
   "metadata": {
    "collapsed": true
   },
   "outputs": [],
   "source": [
    "X_grid = np.arange(min(X) , max(X), 0.1)\n",
    "X_grid = X_grid.reshape?"
   ]
  },
  {
   "cell_type": "code",
   "execution_count": null,
   "metadata": {
    "collapsed": true
   },
   "outputs": [],
   "source": [
    "X_grid = X_grid.reshape"
   ]
  },
  {
   "cell_type": "code",
   "execution_count": 34,
   "metadata": {},
   "outputs": [
    {
     "name": "stdout",
     "output_type": "stream",
     "text": [
      "[[ 1. ]\n",
      " [ 1.1]\n",
      " [ 1.2]\n",
      " [ 1.3]\n",
      " [ 1.4]\n",
      " [ 1.5]\n",
      " [ 1.6]\n",
      " [ 1.7]\n",
      " [ 1.8]\n",
      " [ 1.9]\n",
      " [ 2. ]\n",
      " [ 2.1]\n",
      " [ 2.2]\n",
      " [ 2.3]\n",
      " [ 2.4]\n",
      " [ 2.5]\n",
      " [ 2.6]\n",
      " [ 2.7]\n",
      " [ 2.8]\n",
      " [ 2.9]\n",
      " [ 3. ]\n",
      " [ 3.1]\n",
      " [ 3.2]\n",
      " [ 3.3]\n",
      " [ 3.4]\n",
      " [ 3.5]\n",
      " [ 3.6]\n",
      " [ 3.7]\n",
      " [ 3.8]\n",
      " [ 3.9]\n",
      " [ 4. ]\n",
      " [ 4.1]\n",
      " [ 4.2]\n",
      " [ 4.3]\n",
      " [ 4.4]\n",
      " [ 4.5]\n",
      " [ 4.6]\n",
      " [ 4.7]\n",
      " [ 4.8]\n",
      " [ 4.9]\n",
      " [ 5. ]\n",
      " [ 5.1]\n",
      " [ 5.2]\n",
      " [ 5.3]\n",
      " [ 5.4]\n",
      " [ 5.5]\n",
      " [ 5.6]\n",
      " [ 5.7]\n",
      " [ 5.8]\n",
      " [ 5.9]\n",
      " [ 6. ]\n",
      " [ 6.1]\n",
      " [ 6.2]\n",
      " [ 6.3]\n",
      " [ 6.4]\n",
      " [ 6.5]\n",
      " [ 6.6]\n",
      " [ 6.7]\n",
      " [ 6.8]\n",
      " [ 6.9]\n",
      " [ 7. ]\n",
      " [ 7.1]\n",
      " [ 7.2]\n",
      " [ 7.3]\n",
      " [ 7.4]\n",
      " [ 7.5]\n",
      " [ 7.6]\n",
      " [ 7.7]\n",
      " [ 7.8]\n",
      " [ 7.9]\n",
      " [ 8. ]\n",
      " [ 8.1]\n",
      " [ 8.2]\n",
      " [ 8.3]\n",
      " [ 8.4]\n",
      " [ 8.5]\n",
      " [ 8.6]\n",
      " [ 8.7]\n",
      " [ 8.8]\n",
      " [ 8.9]\n",
      " [ 9. ]\n",
      " [ 9.1]\n",
      " [ 9.2]\n",
      " [ 9.3]\n",
      " [ 9.4]\n",
      " [ 9.5]\n",
      " [ 9.6]\n",
      " [ 9.7]\n",
      " [ 9.8]\n",
      " [ 9.9]]\n"
     ]
    }
   ],
   "source": [
    "X_grid = X_grid.reshape((len(X_grid),1))\n",
    "print(X_grid)"
   ]
  },
  {
   "cell_type": "code",
   "execution_count": 35,
   "metadata": {},
   "outputs": [
    {
     "data": {
      "image/png": "[encoded data removed]",
      "text/plain": [
       "<matplotlib.figure.Figure at 0xfff3d3cc0>"
      ]
     },
     "metadata": {},
     "output_type": "display_data"
    }
   ],
   "source": [
    "plt.plot(X_grid , regressor.predict(X_grid),color = \"blue\" )\n",
    "plt.scatter(X, Y , color = 'Red')\n",
    "plt.scatter(6.5 , regressor.predict(6.5),color = 'black')\n",
    "plt.show()"
   ]
  },
  {
   "cell_type": "code",
   "execution_count": null,
   "metadata": {
    "collapsed": true
   },
   "outputs": [],
   "source": []
  }
 ],
 "metadata": {
  "kernelspec": {
   "display_name": "Python 3",
   "language": "python",
   "name": "python3"
  },
  "language_info": {
   "codemirror_mode": {
    "name": "ipython",
    "version": 3
   },
   "file_extension": ".py",
   "mimetype": "text/x-python",
   "name": "python",
   "nbconvert_exporter": "python",
   "pygments_lexer": "ipython3",
   "version": "3.6.1"
  }
 },
 "nbformat": 4,
 "nbformat_minor": 2
}
